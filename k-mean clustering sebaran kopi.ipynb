{
 "cells": [
  {
   "cell_type": "code",
   "execution_count": 8,
   "metadata": {},
   "outputs": [],
   "source": [
    "import pandas as pd\n",
    "import numpy as np\n",
    "import matplotlib.pyplot as plt \n",
    "from sklearn.cluster import KMeans\n",
    "from sklearn.preprocessing import MinMaxScaler"
   ]
  },
  {
   "cell_type": "markdown",
   "metadata": {},
   "source": [
    "import dataset"
   ]
  },
  {
   "cell_type": "code",
   "execution_count": 9,
   "metadata": {},
   "outputs": [
    {
     "data": {
      "text/html": [
       "<div>\n",
       "<style scoped>\n",
       "    .dataframe tbody tr th:only-of-type {\n",
       "        vertical-align: middle;\n",
       "    }\n",
       "\n",
       "    .dataframe tbody tr th {\n",
       "        vertical-align: top;\n",
       "    }\n",
       "\n",
       "    .dataframe thead th {\n",
       "        text-align: right;\n",
       "    }\n",
       "</style>\n",
       "<table border=\"1\" class=\"dataframe\">\n",
       "  <thead>\n",
       "    <tr style=\"text-align: right;\">\n",
       "      <th></th>\n",
       "      <th>Kecamatan</th>\n",
       "      <th>LuasKecamatanKM2</th>\n",
       "      <th>LuasKebunKopiHektar</th>\n",
       "      <th>HasilProduksiTon</th>\n",
       "    </tr>\n",
       "  </thead>\n",
       "  <tbody>\n",
       "    <tr>\n",
       "      <td>0</td>\n",
       "      <td>Wamena</td>\n",
       "      <td>110.85</td>\n",
       "      <td>19</td>\n",
       "      <td>0.00</td>\n",
       "    </tr>\n",
       "    <tr>\n",
       "      <td>1</td>\n",
       "      <td>Wouma</td>\n",
       "      <td>48.75</td>\n",
       "      <td>10</td>\n",
       "      <td>0.00</td>\n",
       "    </tr>\n",
       "    <tr>\n",
       "      <td>2</td>\n",
       "      <td>Hubikosi</td>\n",
       "      <td>105.97</td>\n",
       "      <td>180</td>\n",
       "      <td>6.68</td>\n",
       "    </tr>\n",
       "    <tr>\n",
       "      <td>3</td>\n",
       "      <td>Hubikiak</td>\n",
       "      <td>158.67</td>\n",
       "      <td>20</td>\n",
       "      <td>0.00</td>\n",
       "    </tr>\n",
       "    <tr>\n",
       "      <td>4</td>\n",
       "      <td>Pelebaga</td>\n",
       "      <td>190.95</td>\n",
       "      <td>100</td>\n",
       "      <td>2.88</td>\n",
       "    </tr>\n",
       "  </tbody>\n",
       "</table>\n",
       "</div>"
      ],
      "text/plain": [
       "  Kecamatan  LuasKecamatanKM2  LuasKebunKopiHektar  HasilProduksiTon\n",
       "0    Wamena            110.85                   19              0.00\n",
       "1     Wouma             48.75                   10              0.00\n",
       "2  Hubikosi            105.97                  180              6.68\n",
       "3  Hubikiak            158.67                   20              0.00\n",
       "4  Pelebaga            190.95                  100              2.88"
      ]
     },
     "execution_count": 9,
     "metadata": {},
     "output_type": "execute_result"
    }
   ],
   "source": [
    "kopi = pd.read_csv('data_sebaran.csv')\n",
    "kopi.head()"
   ]
  },
  {
   "cell_type": "code",
   "execution_count": 10,
   "metadata": {},
   "outputs": [
    {
     "name": "stdout",
     "output_type": "stream",
     "text": [
      "<class 'pandas.core.frame.DataFrame'>\n",
      "RangeIndex: 23 entries, 0 to 22\n",
      "Data columns (total 4 columns):\n",
      "Kecamatan              23 non-null object\n",
      "LuasKecamatanKM2       23 non-null float64\n",
      "LuasKebunKopiHektar    23 non-null int64\n",
      "HasilProduksiTon       23 non-null float64\n",
      "dtypes: float64(2), int64(1), object(1)\n",
      "memory usage: 864.0+ bytes\n"
     ]
    }
   ],
   "source": [
    "kopi.info()"
   ]
  },
  {
   "cell_type": "code",
   "execution_count": 11,
   "metadata": {},
   "outputs": [
    {
     "data": {
      "text/html": [
       "<div>\n",
       "<style scoped>\n",
       "    .dataframe tbody tr th:only-of-type {\n",
       "        vertical-align: middle;\n",
       "    }\n",
       "\n",
       "    .dataframe tbody tr th {\n",
       "        vertical-align: top;\n",
       "    }\n",
       "\n",
       "    .dataframe thead th {\n",
       "        text-align: right;\n",
       "    }\n",
       "</style>\n",
       "<table border=\"1\" class=\"dataframe\">\n",
       "  <thead>\n",
       "    <tr style=\"text-align: right;\">\n",
       "      <th></th>\n",
       "      <th>LuasKebunKopiHektar</th>\n",
       "      <th>HasilProduksiTon</th>\n",
       "    </tr>\n",
       "  </thead>\n",
       "  <tbody>\n",
       "    <tr>\n",
       "      <td>0</td>\n",
       "      <td>19</td>\n",
       "      <td>0.00</td>\n",
       "    </tr>\n",
       "    <tr>\n",
       "      <td>1</td>\n",
       "      <td>10</td>\n",
       "      <td>0.00</td>\n",
       "    </tr>\n",
       "    <tr>\n",
       "      <td>2</td>\n",
       "      <td>180</td>\n",
       "      <td>6.68</td>\n",
       "    </tr>\n",
       "    <tr>\n",
       "      <td>3</td>\n",
       "      <td>20</td>\n",
       "      <td>0.00</td>\n",
       "    </tr>\n",
       "    <tr>\n",
       "      <td>4</td>\n",
       "      <td>100</td>\n",
       "      <td>2.88</td>\n",
       "    </tr>\n",
       "    <tr>\n",
       "      <td>5</td>\n",
       "      <td>15</td>\n",
       "      <td>2.25</td>\n",
       "    </tr>\n",
       "    <tr>\n",
       "      <td>6</td>\n",
       "      <td>140</td>\n",
       "      <td>4.00</td>\n",
       "    </tr>\n",
       "    <tr>\n",
       "      <td>7</td>\n",
       "      <td>110</td>\n",
       "      <td>15.13</td>\n",
       "    </tr>\n",
       "    <tr>\n",
       "      <td>8</td>\n",
       "      <td>185</td>\n",
       "      <td>4.56</td>\n",
       "    </tr>\n",
       "    <tr>\n",
       "      <td>9</td>\n",
       "      <td>6</td>\n",
       "      <td>0.00</td>\n",
       "    </tr>\n",
       "    <tr>\n",
       "      <td>10</td>\n",
       "      <td>145</td>\n",
       "      <td>8.76</td>\n",
       "    </tr>\n",
       "    <tr>\n",
       "      <td>11</td>\n",
       "      <td>4</td>\n",
       "      <td>0.00</td>\n",
       "    </tr>\n",
       "    <tr>\n",
       "      <td>12</td>\n",
       "      <td>96</td>\n",
       "      <td>5.65</td>\n",
       "    </tr>\n",
       "    <tr>\n",
       "      <td>13</td>\n",
       "      <td>4</td>\n",
       "      <td>1.75</td>\n",
       "    </tr>\n",
       "    <tr>\n",
       "      <td>14</td>\n",
       "      <td>368</td>\n",
       "      <td>7.36</td>\n",
       "    </tr>\n",
       "    <tr>\n",
       "      <td>15</td>\n",
       "      <td>15</td>\n",
       "      <td>0.00</td>\n",
       "    </tr>\n",
       "    <tr>\n",
       "      <td>16</td>\n",
       "      <td>240</td>\n",
       "      <td>20.22</td>\n",
       "    </tr>\n",
       "    <tr>\n",
       "      <td>17</td>\n",
       "      <td>213</td>\n",
       "      <td>4.38</td>\n",
       "    </tr>\n",
       "    <tr>\n",
       "      <td>18</td>\n",
       "      <td>15</td>\n",
       "      <td>0.00</td>\n",
       "    </tr>\n",
       "    <tr>\n",
       "      <td>19</td>\n",
       "      <td>75</td>\n",
       "      <td>44.26</td>\n",
       "    </tr>\n",
       "    <tr>\n",
       "      <td>20</td>\n",
       "      <td>40</td>\n",
       "      <td>2.80</td>\n",
       "    </tr>\n",
       "    <tr>\n",
       "      <td>21</td>\n",
       "      <td>65</td>\n",
       "      <td>0.00</td>\n",
       "    </tr>\n",
       "    <tr>\n",
       "      <td>22</td>\n",
       "      <td>10</td>\n",
       "      <td>1.75</td>\n",
       "    </tr>\n",
       "  </tbody>\n",
       "</table>\n",
       "</div>"
      ],
      "text/plain": [
       "    LuasKebunKopiHektar  HasilProduksiTon\n",
       "0                    19              0.00\n",
       "1                    10              0.00\n",
       "2                   180              6.68\n",
       "3                    20              0.00\n",
       "4                   100              2.88\n",
       "5                    15              2.25\n",
       "6                   140              4.00\n",
       "7                   110             15.13\n",
       "8                   185              4.56\n",
       "9                     6              0.00\n",
       "10                  145              8.76\n",
       "11                    4              0.00\n",
       "12                   96              5.65\n",
       "13                    4              1.75\n",
       "14                  368              7.36\n",
       "15                   15              0.00\n",
       "16                  240             20.22\n",
       "17                  213              4.38\n",
       "18                   15              0.00\n",
       "19                   75             44.26\n",
       "20                   40              2.80\n",
       "21                   65              0.00\n",
       "22                   10              1.75"
      ]
     },
     "execution_count": 11,
     "metadata": {},
     "output_type": "execute_result"
    }
   ],
   "source": [
    "kopi = kopi.drop(['Kecamatan','LuasKecamatanKM2'], axis = 1)\n",
    "kopi"
   ]
  },
  {
   "cell_type": "code",
   "execution_count": 12,
   "metadata": {},
   "outputs": [
    {
     "data": {
      "image/png": "[encoded data removed]",
      "text/plain": [
       "<Figure size 432x288 with 1 Axes>"
      ]
     },
     "metadata": {
      "needs_background": "light"
     },
     "output_type": "display_data"
    }
   ],
   "source": [
    "plt.scatter(kopi.LuasKebunKopiHektar, kopi.HasilProduksiTon, s =10, c = 'c', marker = 'o', alpha = 1)\n",
    "plt.show()"
   ]
  },
  {
   "cell_type": "markdown",
   "metadata": {},
   "source": [
    "Menentukan Variabel Yang Akan Dikelompokan"
   ]
  },
  {
   "cell_type": "code",
   "execution_count": 13,
   "metadata": {},
   "outputs": [
    {
     "data": {
      "text/html": [
       "<div>\n",
       "<style scoped>\n",
       "    .dataframe tbody tr th:only-of-type {\n",
       "        vertical-align: middle;\n",
       "    }\n",
       "\n",
       "    .dataframe tbody tr th {\n",
       "        vertical-align: top;\n",
       "    }\n",
       "\n",
       "    .dataframe thead th {\n",
       "        text-align: right;\n",
       "    }\n",
       "</style>\n",
       "<table border=\"1\" class=\"dataframe\">\n",
       "  <thead>\n",
       "    <tr style=\"text-align: right;\">\n",
       "      <th></th>\n",
       "      <th>LuasKebunKopiHektar</th>\n",
       "      <th>HasilProduksiTon</th>\n",
       "    </tr>\n",
       "  </thead>\n",
       "  <tbody>\n",
       "    <tr>\n",
       "      <td>0</td>\n",
       "      <td>19</td>\n",
       "      <td>0.00</td>\n",
       "    </tr>\n",
       "    <tr>\n",
       "      <td>1</td>\n",
       "      <td>10</td>\n",
       "      <td>0.00</td>\n",
       "    </tr>\n",
       "    <tr>\n",
       "      <td>2</td>\n",
       "      <td>180</td>\n",
       "      <td>6.68</td>\n",
       "    </tr>\n",
       "    <tr>\n",
       "      <td>3</td>\n",
       "      <td>20</td>\n",
       "      <td>0.00</td>\n",
       "    </tr>\n",
       "    <tr>\n",
       "      <td>4</td>\n",
       "      <td>100</td>\n",
       "      <td>2.88</td>\n",
       "    </tr>\n",
       "  </tbody>\n",
       "</table>\n",
       "</div>"
      ],
      "text/plain": [
       "   LuasKebunKopiHektar  HasilProduksiTon\n",
       "0                   19              0.00\n",
       "1                   10              0.00\n",
       "2                  180              6.68\n",
       "3                   20              0.00\n",
       "4                  100              2.88"
      ]
     },
     "execution_count": 13,
     "metadata": {},
     "output_type": "execute_result"
    }
   ],
   "source": [
    "kopi_x = kopi.iloc[:, 0:2]\n",
    "kopi_x.head()"
   ]
  },
  {
   "cell_type": "markdown",
   "metadata": {},
   "source": [
    "Mengubah variabel data frame menjadi array sebelum menentukan nilai K."
   ]
  },
  {
   "cell_type": "code",
   "execution_count": 14,
   "metadata": {},
   "outputs": [
    {
     "name": "stdout",
     "output_type": "stream",
     "text": [
      "[[ 19.     0.  ]\n",
      " [ 10.     0.  ]\n",
      " [180.     6.68]\n",
      " [ 20.     0.  ]\n",
      " [100.     2.88]\n",
      " [ 15.     2.25]\n",
      " [140.     4.  ]\n",
      " [110.    15.13]\n",
      " [185.     4.56]\n",
      " [  6.     0.  ]\n",
      " [145.     8.76]\n",
      " [  4.     0.  ]\n",
      " [ 96.     5.65]\n",
      " [  4.     1.75]\n",
      " [368.     7.36]\n",
      " [ 15.     0.  ]\n",
      " [240.    20.22]\n",
      " [213.     4.38]\n",
      " [ 15.     0.  ]\n",
      " [ 75.    44.26]\n",
      " [ 40.     2.8 ]\n",
      " [ 65.     0.  ]\n",
      " [ 10.     1.75]]\n"
     ]
    }
   ],
   "source": [
    "x_array = np.array(kopi_x)\n",
    "print(x_array)"
   ]
  },
  {
   "cell_type": "markdown",
   "metadata": {},
   "source": [
    "Menstandarkan kembali ukuran variabel array."
   ]
  },
  {
   "cell_type": "code",
   "execution_count": 15,
   "metadata": {},
   "outputs": [
    {
     "data": {
      "text/plain": [
       "array([[0.04120879, 0.        ],\n",
       "       [0.01648352, 0.        ],\n",
       "       [0.48351648, 0.15092634],\n",
       "       [0.04395604, 0.        ],\n",
       "       [0.26373626, 0.06507004],\n",
       "       [0.03021978, 0.05083597],\n",
       "       [0.37362637, 0.09037506],\n",
       "       [0.29120879, 0.34184365],\n",
       "       [0.49725275, 0.10302756],\n",
       "       [0.00549451, 0.        ],\n",
       "       [0.38736264, 0.19792137],\n",
       "       [0.        , 0.        ],\n",
       "       [0.25274725, 0.12765477],\n",
       "       [0.        , 0.03953909],\n",
       "       [1.        , 0.1662901 ],\n",
       "       [0.03021978, 0.        ],\n",
       "       [0.64835165, 0.45684591],\n",
       "       [0.57417582, 0.09896069],\n",
       "       [0.03021978, 0.        ],\n",
       "       [0.19505495, 1.        ],\n",
       "       [0.0989011 , 0.06326254],\n",
       "       [0.16758242, 0.        ],\n",
       "       [0.01648352, 0.03953909]])"
      ]
     },
     "execution_count": 15,
     "metadata": {},
     "output_type": "execute_result"
    }
   ],
   "source": [
    "scaler = MinMaxScaler()\n",
    "x_scaled = scaler.fit_transform(x_array)\n",
    "x_scaled"
   ]
  },
  {
   "cell_type": "code",
   "execution_count": 23,
   "metadata": {},
   "outputs": [
    {
     "data": {
      "image/png": "[encoded data removed]",
      "text/plain": [
       "<Figure size 432x288 with 1 Axes>"
      ]
     },
     "metadata": {
      "needs_background": "light"
     },
     "output_type": "display_data"
    }
   ],
   "source": [
    "wcss = []\n",
    "for i in range(1, 11):\n",
    "    kmeans = KMeans(n_clusters=i, init='k-means++', max_iter=300,\n",
    "                    n_init=10, random_state=0)\n",
    "    kmeans.fit(kopi_x)\n",
    "    wcss.append(kmeans.inertia_)\n",
    "plt.plot(range(1, 11), wcss)\n",
    "plt.title('Metode Elbow')\n",
    "plt.xlabel('Nomer Cluster')\n",
    "plt.ylabel('WCSS')\n",
    "plt.show()"
   ]
  },
  {
   "cell_type": "code",
   "execution_count": 16,
   "metadata": {},
   "outputs": [],
   "source": [
    "kmeans = KMeans(n_clusters = 3, init = 'k-means++')"
   ]
  },
  {
   "cell_type": "markdown",
   "metadata": {},
   "source": [
    "menentukan nilai K (cluster) dari data."
   ]
  },
  {
   "cell_type": "code",
   "execution_count": 17,
   "metadata": {},
   "outputs": [
    {
     "data": {
      "text/plain": [
       "KMeans(algorithm='auto', copy_x=True, init='k-means++', max_iter=300,\n",
       "       n_clusters=3, n_init=10, n_jobs=None, precompute_distances='auto',\n",
       "       random_state=None, tol=0.0001, verbose=0)"
      ]
     },
     "execution_count": 17,
     "metadata": {},
     "output_type": "execute_result"
    }
   ],
   "source": [
    "kmeans.fit(x_scaled)"
   ]
  },
  {
   "cell_type": "code",
   "execution_count": 18,
   "metadata": {},
   "outputs": [
    {
     "name": "stdout",
     "output_type": "stream",
     "text": [
      "[[0.19505495 1.        ]\n",
      " [0.07123234 0.02756439]\n",
      " [0.53193681 0.20077384]]\n"
     ]
    }
   ],
   "source": [
    "print(kmeans.cluster_centers_)"
   ]
  },
  {
   "cell_type": "code",
   "execution_count": 19,
   "metadata": {},
   "outputs": [],
   "source": [
    "kopi['cluster'] = kmeans.labels_"
   ]
  },
  {
   "cell_type": "markdown",
   "metadata": {},
   "source": [
    "Memvisualisasikan hasil cluster"
   ]
  },
  {
   "cell_type": "code",
   "execution_count": 20,
   "metadata": {},
   "outputs": [
    {
     "data": {
      "image/png": "[encoded data removed]",
      "text/plain": [
       "<Figure size 432x288 with 2 Axes>"
      ]
     },
     "metadata": {
      "needs_background": "light"
     },
     "output_type": "display_data"
    }
   ],
   "source": [
    "output = plt.scatter(x_scaled[:,0], x_scaled[:,1], s = 100, c = kopi.cluster, marker = 'o', alpha = 1, )\n",
    "centers = kmeans.cluster_centers_\n",
    "plt.scatter(centers[:,0], centers[:,1], c='red', s=200, alpha=1 , marker='o');\n",
    "plt.title('Hasil Clustering K-Means')\n",
    "plt.colorbar (output)\n",
    "plt.show()"
   ]
  },
  {
   "cell_type": "code",
   "execution_count": 21,
   "metadata": {},
   "outputs": [
    {
     "name": "stdout",
     "output_type": "stream",
     "text": [
      "cluster\n",
      "0     1\n",
      "1    14\n",
      "2     8\n",
      "Name: cluster, dtype: int64\n",
      "    LuasKebunKopiHektar  HasilProduksiTon  cluster\n",
      "0                    19              0.00        1\n",
      "1                    10              0.00        1\n",
      "2                   180              6.68        2\n",
      "3                    20              0.00        1\n",
      "4                   100              2.88        1\n",
      "5                    15              2.25        1\n",
      "6                   140              4.00        2\n",
      "7                   110             15.13        2\n",
      "8                   185              4.56        2\n",
      "9                     6              0.00        1\n",
      "10                  145              8.76        2\n",
      "11                    4              0.00        1\n",
      "12                   96              5.65        1\n",
      "13                    4              1.75        1\n",
      "14                  368              7.36        2\n",
      "15                   15              0.00        1\n",
      "16                  240             20.22        2\n",
      "17                  213              4.38        2\n",
      "18                   15              0.00        1\n",
      "19                   75             44.26        0\n",
      "20                   40              2.80        1\n",
      "21                   65              0.00        1\n",
      "22                   10              1.75        1\n"
     ]
    }
   ],
   "source": [
    "result=kopi['cluster'].groupby(kopi['cluster'], axis=0).count()\n",
    "print(result)\n",
    "print(kopi)"
   ]
  },
  {
   "cell_type": "code",
   "execution_count": 29,
   "metadata": {},
   "outputs": [],
   "source": [
    "#export_csv = kopi.to_csv (r'C:\\Users\\Aprea\\Documents\\GitHub\\export_dataframesebarankopi.csv', index = None, header=True) #Don't forget to add '.csv' at the end of the path"
   ]
  },
  {
   "cell_type": "code",
   "execution_count": 31,
   "metadata": {},
   "outputs": [],
   "source": [
    "export_excel = kopi.to_excel (r'C:\\Users\\Aprea\\Documents\\GitHub\\export_dataframesebarankopi.xlsx', index = None, header=True) #Don't forget to add '.xlsx' at the end of the path"
   ]
  },
  {
   "cell_type": "code",
   "execution_count": 32,
   "metadata": {},
   "outputs": [
    {
     "name": "stdout",
     "output_type": "stream",
     "text": [
      "    LuasKebunKopiHektar  HasilProduksiTon  cluster\n",
      "0                    19              0.00        1\n",
      "1                    10              0.00        1\n",
      "2                   180              6.68        2\n",
      "3                    20              0.00        1\n",
      "4                   100              2.88        1\n",
      "5                    15              2.25        1\n",
      "6                   140              4.00        2\n",
      "7                   110             15.13        2\n",
      "8                   185              4.56        2\n",
      "9                     6              0.00        1\n",
      "10                  145              8.76        2\n",
      "11                    4              0.00        1\n",
      "12                   96              5.65        1\n",
      "13                    4              1.75        1\n",
      "14                  368              7.36        2\n",
      "15                   15              0.00        1\n",
      "16                  240             20.22        2\n",
      "17                  213              4.38        2\n",
      "18                   15              0.00        1\n",
      "19                   75             44.26        0\n",
      "20                   40              2.80        1\n",
      "21                   65              0.00        1\n",
      "22                   10              1.75        1\n"
     ]
    }
   ],
   "source": [
    "print(kopi)"
   ]
  },
  {
   "cell_type": "code",
   "execution_count": 33,
   "metadata": {},
   "outputs": [],
   "source": [
    "export_excel = result.to_excel (r'C:\\Users\\Aprea\\Documents\\GitHub\\export_dataframesebarankopiresult.xlsx', index = None, header=True) #Don't forget to add '.xlsx' at the end of the path"
   ]
  },
  {
   "cell_type": "code",
   "execution_count": 34,
   "metadata": {},
   "outputs": [
    {
     "name": "stdout",
     "output_type": "stream",
     "text": [
      "cluster\n",
      "0     1\n",
      "1    14\n",
      "2     8\n",
      "Name: cluster, dtype: int64\n"
     ]
    }
   ],
   "source": [
    "print(result)"
   ]
  },
  {
   "cell_type": "code",
   "execution_count": null,
   "metadata": {},
   "outputs": [],
   "source": []
  }
 ],
 "metadata": {
  "kernelspec": {
   "display_name": "Python 3",
   "language": "python",
   "name": "python3"
  },
  "language_info": {
   "codemirror_mode": {
    "name": "ipython",
    "version": 3
   },
   "file_extension": ".py",
   "mimetype": "text/x-python",
   "name": "python",
   "nbconvert_exporter": "python",
   "pygments_lexer": "ipython3",
   "version": "3.6.8"
  }
 },
 "nbformat": 4,
 "nbformat_minor": 2
}
